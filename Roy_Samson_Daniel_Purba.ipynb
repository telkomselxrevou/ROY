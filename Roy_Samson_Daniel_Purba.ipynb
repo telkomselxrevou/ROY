{
  "nbformat": 4,
  "nbformat_minor": 0,
  "metadata": {
    "colab": {
      "provenance": [],
      "authorship_tag": "ABX9TyMAyO74o5rH5ZX3rnm8BWcL",
      "include_colab_link": true
    },
    "kernelspec": {
      "name": "python3",
      "display_name": "Python 3"
    },
    "language_info": {
      "name": "python"
    }
  },
  "cells": [
    {
      "cell_type": "markdown",
      "metadata": {
        "id": "view-in-github",
        "colab_type": "text"
      },
      "source": [
        "<a href=\"https://colab.research.google.com/github/telkomselxrevou/ROY/blob/main/Roy_Samson_Daniel_Purba.ipynb\" target=\"_parent\"><img src=\"https://colab.research.google.com/assets/colab-badge.svg\" alt=\"Open In Colab\"/></a>"
      ]
    },
    {
      "cell_type": "markdown",
      "source": [
        "Import Packages"
      ],
      "metadata": {
        "id": "IXEbtdd2EE0U"
      }
    },
    {
      "cell_type": "code",
      "execution_count": null,
      "metadata": {
        "id": "BpdW8ObtDagI"
      },
      "outputs": [],
      "source": [
        "import pandas as pd\n",
        "import gdown"
      ]
    },
    {
      "cell_type": "markdown",
      "source": [
        "Download Data"
      ],
      "metadata": {
        "id": "ZP1lwDCrEMDs"
      }
    },
    {
      "cell_type": "code",
      "source": [
        "dict_data_url = {\"TELECOM_ACCOUNT.csv\" : \"https://drive.google.com/file/d/1hOLOXCnLtEVx56yth4ePcUdb_X038_Qd/view?usp=drive_link\",\n",
        "                 \"TELECOM_USAGE.csv\" : \"https://drive.google.com/file/d/1JMrMNFaflQR0NhCXR3-u7ueA7TdNTJki/view?usp=drive_link\",\n",
        "                 }"
      ],
      "metadata": {
        "id": "Y2uCsczOELNc"
      },
      "execution_count": null,
      "outputs": []
    },
    {
      "cell_type": "code",
      "source": [
        "for file_name, gdrive_url in dict_data_url.items():\n",
        "  gdown.download(gdrive_url, file_name, fuzzy=True)"
      ],
      "metadata": {
        "colab": {
          "base_uri": "https://localhost:8080/"
        },
        "id": "_G7jvMsGF4Cd",
        "outputId": "d2efe976-78d6-414b-dde2-04178923d060"
      },
      "execution_count": null,
      "outputs": [
        {
          "output_type": "stream",
          "name": "stderr",
          "text": [
            "Downloading...\n",
            "From: https://drive.google.com/uc?id=1hOLOXCnLtEVx56yth4ePcUdb_X038_Qd\n",
            "To: /content/TELECOM_ACCOUNT.csv\n",
            "100%|██████████| 9.02M/9.02M [00:00<00:00, 28.6MB/s]\n",
            "Downloading...\n",
            "From: https://drive.google.com/uc?id=1JMrMNFaflQR0NhCXR3-u7ueA7TdNTJki\n",
            "To: /content/TELECOM_USAGE.csv\n",
            "100%|██████████| 47.0M/47.0M [00:00<00:00, 161MB/s]\n"
          ]
        }
      ]
    },
    {
      "cell_type": "markdown",
      "source": [
        "Load Data"
      ],
      "metadata": {
        "id": "XSvvty3WNgWg"
      }
    },
    {
      "cell_type": "code",
      "source": [
        "df_account = pd.read_csv('TELECOM_ACCOUNT.csv')\n",
        "df_usage = pd.read_csv('TELECOM_USAGE.csv')"
      ],
      "metadata": {
        "id": "GXnNBMeUM8Et"
      },
      "execution_count": null,
      "outputs": []
    },
    {
      "cell_type": "code",
      "source": [
        "df_account.info()"
      ],
      "metadata": {
        "colab": {
          "base_uri": "https://localhost:8080/"
        },
        "id": "AGD7sFLGOyMg",
        "outputId": "6a1a60f0-84cb-4a5f-ac28-82d798bfed66"
      },
      "execution_count": null,
      "outputs": [
        {
          "output_type": "stream",
          "name": "stdout",
          "text": [
            "<class 'pandas.core.frame.DataFrame'>\n",
            "RangeIndex: 56557 entries, 0 to 56556\n",
            "Data columns (total 17 columns):\n",
            " #   Column                  Non-Null Count  Dtype  \n",
            "---  ------                  --------------  -----  \n",
            " 0   Customer_ID             56557 non-null  int64  \n",
            " 1   customer_name           56557 non-null  object \n",
            " 2   customer_gender         52512 non-null  object \n",
            " 3   customer_address        56557 non-null  object \n",
            " 4   customer_city           56557 non-null  object \n",
            " 5   customer_state          56557 non-null  object \n",
            " 6   zipcode_primary         56557 non-null  float64\n",
            " 7   customer_primary_phone  56557 non-null  object \n",
            " 8   region                  56557 non-null  object \n",
            " 9   region_lat              56557 non-null  float64\n",
            " 10  region_long             56557 non-null  float64\n",
            " 11  state_lat               56557 non-null  float64\n",
            " 12  state_long              56557 non-null  float64\n",
            " 13  city_lat                53393 non-null  float64\n",
            " 14  city_long               53393 non-null  float64\n",
            " 15  zip_lat                 56557 non-null  float64\n",
            " 16  zip_long                56557 non-null  float64\n",
            "dtypes: float64(9), int64(1), object(7)\n",
            "memory usage: 7.3+ MB\n"
          ]
        }
      ]
    },
    {
      "cell_type": "code",
      "source": [
        "sorted(list(df_usage.columns))"
      ],
      "metadata": {
        "colab": {
          "base_uri": "https://localhost:8080/"
        },
        "id": "ZFqcw4uxO4w3",
        "outputId": "8767ff2e-6b6b-46a6-ffa3-0c8c61651d25"
      },
      "execution_count": null,
      "outputs": [
        {
          "output_type": "execute_result",
          "data": {
            "text/plain": [
              "['Customer_ID',\n",
              " 'Est_HH_Income',\n",
              " 'acct_age',\n",
              " 'avg_arpu_3m',\n",
              " 'avg_data_chrgs_3m',\n",
              " 'avg_data_prem_chrgs_3m',\n",
              " 'avg_days_susp',\n",
              " 'avg_overage_chrgs_3m',\n",
              " 'bill_data_usg_m03',\n",
              " 'bill_data_usg_m06',\n",
              " 'bill_data_usg_m09',\n",
              " 'bill_data_usg_tot',\n",
              " 'billing_cycle',\n",
              " 'call_category_1',\n",
              " 'call_category_2',\n",
              " 'call_center',\n",
              " 'calls_TS_acct',\n",
              " 'calls_care_3mavg_acct',\n",
              " 'calls_care_6mavg_acct',\n",
              " 'calls_care_acct',\n",
              " 'calls_in_offpk',\n",
              " 'calls_in_pk',\n",
              " 'calls_out_offpk',\n",
              " 'calls_out_pk',\n",
              " 'calls_total',\n",
              " 'churn',\n",
              " 'count_of_suspensions_6m',\n",
              " 'credit_class',\n",
              " 'cs_afr_amer',\n",
              " 'cs_caucasian',\n",
              " 'cs_hispanic',\n",
              " 'cs_med_home_value',\n",
              " 'cs_other',\n",
              " 'cs_pct_home_owner',\n",
              " 'cs_ttl_female',\n",
              " 'cs_ttl_hhlds',\n",
              " 'cs_ttl_male',\n",
              " 'cs_ttl_mdage',\n",
              " 'cs_ttl_pop',\n",
              " 'cs_ttl_rural',\n",
              " 'cs_ttl_urban',\n",
              " 'data_device_age',\n",
              " 'data_prem_chrgs_curr',\n",
              " 'data_usage_amt',\n",
              " 'days_openwrkorders',\n",
              " 'delinq_indicator',\n",
              " 'equip_age',\n",
              " 'ever_days_over_plan',\n",
              " 'ever_times_over_plan',\n",
              " 'forecast_region',\n",
              " 'handset',\n",
              " 'handset_age_grp',\n",
              " 'issue_level1',\n",
              " 'issue_level2',\n",
              " 'last_rep_sat_score',\n",
              " 'lifestage',\n",
              " 'lifetime_value',\n",
              " 'mb_data_ndist_mo6m',\n",
              " 'mb_data_usg_m01',\n",
              " 'mb_data_usg_m02',\n",
              " 'mb_data_usg_m03',\n",
              " 'mb_data_usg_roamm01',\n",
              " 'mb_data_usg_roamm02',\n",
              " 'mb_data_usg_roamm03',\n",
              " 'mb_inclplan',\n",
              " 'mfg_apple',\n",
              " 'mfg_htc',\n",
              " 'mfg_lg',\n",
              " 'mfg_motorola',\n",
              " 'mfg_nokia',\n",
              " 'mfg_samsung',\n",
              " 'mou_onnet_6m_normal',\n",
              " 'mou_onnet_pct_MOM',\n",
              " 'mou_roam_6m_normal',\n",
              " 'mou_roam_pct_MOM',\n",
              " 'mou_total_pct_MOM',\n",
              " 'nbr_contacts',\n",
              " 'nbr_contracts_ltd',\n",
              " 'nbr_data_cdrs',\n",
              " 'network_mention',\n",
              " 'num_tsupcomplnts',\n",
              " 'open_tsupcomplnts',\n",
              " 'price_mention',\n",
              " 'product_plan_desc',\n",
              " 'res_calls_3mavg_acct',\n",
              " 'res_calls_6mavg_acct',\n",
              " 'resolution',\n",
              " 'resolved_complnts',\n",
              " 'rfm_score',\n",
              " 'rp_pooled_ind',\n",
              " 'sales_channel',\n",
              " 'service_mention',\n",
              " 'times_delinq',\n",
              " 'tot_drpd_pr1',\n",
              " 'tot_mb_data_curr',\n",
              " 'tot_mb_data_roam_curr',\n",
              " 'tot_overage_chgs',\n",
              " 'tot_voice_chrgs_curr',\n",
              " 'tweedie_adjusted',\n",
              " 'unsolv_tsupcomplnt',\n",
              " 'upsell_xsell',\n",
              " 'verbatims',\n",
              " 'voice_tot_bill_mou_curr',\n",
              " 'wrk_orders']"
            ]
          },
          "metadata": {},
          "execution_count": 19
        }
      ]
    },
    {
      "cell_type": "code",
      "source": [
        "df_usage[['rfm_score','mb_data_usg_m01','mb_data_usg_m03','lifetime_value','avg_arpu_3m']].head()"
      ],
      "metadata": {
        "colab": {
          "base_uri": "https://localhost:8080/",
          "height": 206
        },
        "id": "BAMf6JQdPBAr",
        "outputId": "857670aa-7ec1-4247-89fa-c8df71c92514"
      },
      "execution_count": null,
      "outputs": [
        {
          "output_type": "execute_result",
          "data": {
            "text/plain": [
              "   rfm_score  mb_data_usg_m01  mb_data_usg_m03  lifetime_value  avg_arpu_3m\n",
              "0      311.0      1989.116367      1943.780808          5931.5    51.775434\n",
              "1      232.0      2069.406271      2015.662843          3454.2    70.889160\n",
              "2      333.0       162.865780       294.503445         22528.6    58.245550\n",
              "3      232.0      -588.201663      -230.000000          3371.9    56.661660\n",
              "4      132.0       109.058880        41.403663          1182.2    51.775434"
            ],
            "text/html": [
              "\n",
              "  <div id=\"df-25bd3aa2-194f-4813-b564-bea862184400\" class=\"colab-df-container\">\n",
              "    <div>\n",
              "<style scoped>\n",
              "    .dataframe tbody tr th:only-of-type {\n",
              "        vertical-align: middle;\n",
              "    }\n",
              "\n",
              "    .dataframe tbody tr th {\n",
              "        vertical-align: top;\n",
              "    }\n",
              "\n",
              "    .dataframe thead th {\n",
              "        text-align: right;\n",
              "    }\n",
              "</style>\n",
              "<table border=\"1\" class=\"dataframe\">\n",
              "  <thead>\n",
              "    <tr style=\"text-align: right;\">\n",
              "      <th></th>\n",
              "      <th>rfm_score</th>\n",
              "      <th>mb_data_usg_m01</th>\n",
              "      <th>mb_data_usg_m03</th>\n",
              "      <th>lifetime_value</th>\n",
              "      <th>avg_arpu_3m</th>\n",
              "    </tr>\n",
              "  </thead>\n",
              "  <tbody>\n",
              "    <tr>\n",
              "      <th>0</th>\n",
              "      <td>311.0</td>\n",
              "      <td>1989.116367</td>\n",
              "      <td>1943.780808</td>\n",
              "      <td>5931.5</td>\n",
              "      <td>51.775434</td>\n",
              "    </tr>\n",
              "    <tr>\n",
              "      <th>1</th>\n",
              "      <td>232.0</td>\n",
              "      <td>2069.406271</td>\n",
              "      <td>2015.662843</td>\n",
              "      <td>3454.2</td>\n",
              "      <td>70.889160</td>\n",
              "    </tr>\n",
              "    <tr>\n",
              "      <th>2</th>\n",
              "      <td>333.0</td>\n",
              "      <td>162.865780</td>\n",
              "      <td>294.503445</td>\n",
              "      <td>22528.6</td>\n",
              "      <td>58.245550</td>\n",
              "    </tr>\n",
              "    <tr>\n",
              "      <th>3</th>\n",
              "      <td>232.0</td>\n",
              "      <td>-588.201663</td>\n",
              "      <td>-230.000000</td>\n",
              "      <td>3371.9</td>\n",
              "      <td>56.661660</td>\n",
              "    </tr>\n",
              "    <tr>\n",
              "      <th>4</th>\n",
              "      <td>132.0</td>\n",
              "      <td>109.058880</td>\n",
              "      <td>41.403663</td>\n",
              "      <td>1182.2</td>\n",
              "      <td>51.775434</td>\n",
              "    </tr>\n",
              "  </tbody>\n",
              "</table>\n",
              "</div>\n",
              "    <div class=\"colab-df-buttons\">\n",
              "\n",
              "  <div class=\"colab-df-container\">\n",
              "    <button class=\"colab-df-convert\" onclick=\"convertToInteractive('df-25bd3aa2-194f-4813-b564-bea862184400')\"\n",
              "            title=\"Convert this dataframe to an interactive table.\"\n",
              "            style=\"display:none;\">\n",
              "\n",
              "  <svg xmlns=\"http://www.w3.org/2000/svg\" height=\"24px\" viewBox=\"0 -960 960 960\">\n",
              "    <path d=\"M120-120v-720h720v720H120Zm60-500h600v-160H180v160Zm220 220h160v-160H400v160Zm0 220h160v-160H400v160ZM180-400h160v-160H180v160Zm440 0h160v-160H620v160ZM180-180h160v-160H180v160Zm440 0h160v-160H620v160Z\"/>\n",
              "  </svg>\n",
              "    </button>\n",
              "\n",
              "  <style>\n",
              "    .colab-df-container {\n",
              "      display:flex;\n",
              "      gap: 12px;\n",
              "    }\n",
              "\n",
              "    .colab-df-convert {\n",
              "      background-color: #E8F0FE;\n",
              "      border: none;\n",
              "      border-radius: 50%;\n",
              "      cursor: pointer;\n",
              "      display: none;\n",
              "      fill: #1967D2;\n",
              "      height: 32px;\n",
              "      padding: 0 0 0 0;\n",
              "      width: 32px;\n",
              "    }\n",
              "\n",
              "    .colab-df-convert:hover {\n",
              "      background-color: #E2EBFA;\n",
              "      box-shadow: 0px 1px 2px rgba(60, 64, 67, 0.3), 0px 1px 3px 1px rgba(60, 64, 67, 0.15);\n",
              "      fill: #174EA6;\n",
              "    }\n",
              "\n",
              "    .colab-df-buttons div {\n",
              "      margin-bottom: 4px;\n",
              "    }\n",
              "\n",
              "    [theme=dark] .colab-df-convert {\n",
              "      background-color: #3B4455;\n",
              "      fill: #D2E3FC;\n",
              "    }\n",
              "\n",
              "    [theme=dark] .colab-df-convert:hover {\n",
              "      background-color: #434B5C;\n",
              "      box-shadow: 0px 1px 3px 1px rgba(0, 0, 0, 0.15);\n",
              "      filter: drop-shadow(0px 1px 2px rgba(0, 0, 0, 0.3));\n",
              "      fill: #FFFFFF;\n",
              "    }\n",
              "  </style>\n",
              "\n",
              "    <script>\n",
              "      const buttonEl =\n",
              "        document.querySelector('#df-25bd3aa2-194f-4813-b564-bea862184400 button.colab-df-convert');\n",
              "      buttonEl.style.display =\n",
              "        google.colab.kernel.accessAllowed ? 'block' : 'none';\n",
              "\n",
              "      async function convertToInteractive(key) {\n",
              "        const element = document.querySelector('#df-25bd3aa2-194f-4813-b564-bea862184400');\n",
              "        const dataTable =\n",
              "          await google.colab.kernel.invokeFunction('convertToInteractive',\n",
              "                                                    [key], {});\n",
              "        if (!dataTable) return;\n",
              "\n",
              "        const docLinkHtml = 'Like what you see? Visit the ' +\n",
              "          '<a target=\"_blank\" href=https://colab.research.google.com/notebooks/data_table.ipynb>data table notebook</a>'\n",
              "          + ' to learn more about interactive tables.';\n",
              "        element.innerHTML = '';\n",
              "        dataTable['output_type'] = 'display_data';\n",
              "        await google.colab.output.renderOutput(dataTable, element);\n",
              "        const docLink = document.createElement('div');\n",
              "        docLink.innerHTML = docLinkHtml;\n",
              "        element.appendChild(docLink);\n",
              "      }\n",
              "    </script>\n",
              "  </div>\n",
              "\n",
              "\n",
              "<div id=\"df-60f3ba5b-edb9-4128-b631-36aa12ab93c3\">\n",
              "  <button class=\"colab-df-quickchart\" onclick=\"quickchart('df-60f3ba5b-edb9-4128-b631-36aa12ab93c3')\"\n",
              "            title=\"Suggest charts\"\n",
              "            style=\"display:none;\">\n",
              "\n",
              "<svg xmlns=\"http://www.w3.org/2000/svg\" height=\"24px\"viewBox=\"0 0 24 24\"\n",
              "     width=\"24px\">\n",
              "    <g>\n",
              "        <path d=\"M19 3H5c-1.1 0-2 .9-2 2v14c0 1.1.9 2 2 2h14c1.1 0 2-.9 2-2V5c0-1.1-.9-2-2-2zM9 17H7v-7h2v7zm4 0h-2V7h2v10zm4 0h-2v-4h2v4z\"/>\n",
              "    </g>\n",
              "</svg>\n",
              "  </button>\n",
              "\n",
              "<style>\n",
              "  .colab-df-quickchart {\n",
              "      --bg-color: #E8F0FE;\n",
              "      --fill-color: #1967D2;\n",
              "      --hover-bg-color: #E2EBFA;\n",
              "      --hover-fill-color: #174EA6;\n",
              "      --disabled-fill-color: #AAA;\n",
              "      --disabled-bg-color: #DDD;\n",
              "  }\n",
              "\n",
              "  [theme=dark] .colab-df-quickchart {\n",
              "      --bg-color: #3B4455;\n",
              "      --fill-color: #D2E3FC;\n",
              "      --hover-bg-color: #434B5C;\n",
              "      --hover-fill-color: #FFFFFF;\n",
              "      --disabled-bg-color: #3B4455;\n",
              "      --disabled-fill-color: #666;\n",
              "  }\n",
              "\n",
              "  .colab-df-quickchart {\n",
              "    background-color: var(--bg-color);\n",
              "    border: none;\n",
              "    border-radius: 50%;\n",
              "    cursor: pointer;\n",
              "    display: none;\n",
              "    fill: var(--fill-color);\n",
              "    height: 32px;\n",
              "    padding: 0;\n",
              "    width: 32px;\n",
              "  }\n",
              "\n",
              "  .colab-df-quickchart:hover {\n",
              "    background-color: var(--hover-bg-color);\n",
              "    box-shadow: 0 1px 2px rgba(60, 64, 67, 0.3), 0 1px 3px 1px rgba(60, 64, 67, 0.15);\n",
              "    fill: var(--button-hover-fill-color);\n",
              "  }\n",
              "\n",
              "  .colab-df-quickchart-complete:disabled,\n",
              "  .colab-df-quickchart-complete:disabled:hover {\n",
              "    background-color: var(--disabled-bg-color);\n",
              "    fill: var(--disabled-fill-color);\n",
              "    box-shadow: none;\n",
              "  }\n",
              "\n",
              "  .colab-df-spinner {\n",
              "    border: 2px solid var(--fill-color);\n",
              "    border-color: transparent;\n",
              "    border-bottom-color: var(--fill-color);\n",
              "    animation:\n",
              "      spin 1s steps(1) infinite;\n",
              "  }\n",
              "\n",
              "  @keyframes spin {\n",
              "    0% {\n",
              "      border-color: transparent;\n",
              "      border-bottom-color: var(--fill-color);\n",
              "      border-left-color: var(--fill-color);\n",
              "    }\n",
              "    20% {\n",
              "      border-color: transparent;\n",
              "      border-left-color: var(--fill-color);\n",
              "      border-top-color: var(--fill-color);\n",
              "    }\n",
              "    30% {\n",
              "      border-color: transparent;\n",
              "      border-left-color: var(--fill-color);\n",
              "      border-top-color: var(--fill-color);\n",
              "      border-right-color: var(--fill-color);\n",
              "    }\n",
              "    40% {\n",
              "      border-color: transparent;\n",
              "      border-right-color: var(--fill-color);\n",
              "      border-top-color: var(--fill-color);\n",
              "    }\n",
              "    60% {\n",
              "      border-color: transparent;\n",
              "      border-right-color: var(--fill-color);\n",
              "    }\n",
              "    80% {\n",
              "      border-color: transparent;\n",
              "      border-right-color: var(--fill-color);\n",
              "      border-bottom-color: var(--fill-color);\n",
              "    }\n",
              "    90% {\n",
              "      border-color: transparent;\n",
              "      border-bottom-color: var(--fill-color);\n",
              "    }\n",
              "  }\n",
              "</style>\n",
              "\n",
              "  <script>\n",
              "    async function quickchart(key) {\n",
              "      const quickchartButtonEl =\n",
              "        document.querySelector('#' + key + ' button');\n",
              "      quickchartButtonEl.disabled = true;  // To prevent multiple clicks.\n",
              "      quickchartButtonEl.classList.add('colab-df-spinner');\n",
              "      try {\n",
              "        const charts = await google.colab.kernel.invokeFunction(\n",
              "            'suggestCharts', [key], {});\n",
              "      } catch (error) {\n",
              "        console.error('Error during call to suggestCharts:', error);\n",
              "      }\n",
              "      quickchartButtonEl.classList.remove('colab-df-spinner');\n",
              "      quickchartButtonEl.classList.add('colab-df-quickchart-complete');\n",
              "    }\n",
              "    (() => {\n",
              "      let quickchartButtonEl =\n",
              "        document.querySelector('#df-60f3ba5b-edb9-4128-b631-36aa12ab93c3 button');\n",
              "      quickchartButtonEl.style.display =\n",
              "        google.colab.kernel.accessAllowed ? 'block' : 'none';\n",
              "    })();\n",
              "  </script>\n",
              "</div>\n",
              "    </div>\n",
              "  </div>\n"
            ],
            "application/vnd.google.colaboratory.intrinsic+json": {
              "type": "dataframe",
              "summary": "{\n  \"name\": \"df_usage[['rfm_score','mb_data_usg_m01','mb_data_usg_m03','lifetime_value','avg_arpu_3m']]\",\n  \"rows\": 5,\n  \"fields\": [\n    {\n      \"column\": \"rfm_score\",\n      \"properties\": {\n        \"dtype\": \"number\",\n        \"std\": 79.31267237963931,\n        \"min\": 132.0,\n        \"max\": 333.0,\n        \"num_unique_values\": 4,\n        \"samples\": [\n          232.0,\n          132.0,\n          311.0\n        ],\n        \"semantic_type\": \"\",\n        \"description\": \"\"\n      }\n    },\n    {\n      \"column\": \"mb_data_usg_m01\",\n      \"properties\": {\n        \"dtype\": \"number\",\n        \"std\": 1206.4976229359838,\n        \"min\": -588.2016633984175,\n        \"max\": 2069.4062707993967,\n        \"num_unique_values\": 5,\n        \"samples\": [\n          2069.4062707993967,\n          109.0588800578903,\n          162.86577978187103\n        ],\n        \"semantic_type\": \"\",\n        \"description\": \"\"\n      }\n    },\n    {\n      \"column\": \"mb_data_usg_m03\",\n      \"properties\": {\n        \"dtype\": \"number\",\n        \"std\": 1081.331553007498,\n        \"min\": -230.0,\n        \"max\": 2015.6628430916624,\n        \"num_unique_values\": 5,\n        \"samples\": [\n          2015.6628430916624,\n          41.40366318395405,\n          294.5034445303095\n        ],\n        \"semantic_type\": \"\",\n        \"description\": \"\"\n      }\n    },\n    {\n      \"column\": \"lifetime_value\",\n      \"properties\": {\n        \"dtype\": \"number\",\n        \"std\": 8680.876605907953,\n        \"min\": 1182.2,\n        \"max\": 22528.6,\n        \"num_unique_values\": 5,\n        \"samples\": [\n          3454.2,\n          1182.2,\n          22528.6\n        ],\n        \"semantic_type\": \"\",\n        \"description\": \"\"\n      }\n    },\n    {\n      \"column\": \"avg_arpu_3m\",\n      \"properties\": {\n        \"dtype\": \"number\",\n        \"std\": 7.832418548291064,\n        \"min\": 51.77543388235289,\n        \"max\": 70.88916,\n        \"num_unique_values\": 4,\n        \"samples\": [\n          70.88916,\n          56.66166,\n          51.77543388235289\n        ],\n        \"semantic_type\": \"\",\n        \"description\": \"\"\n      }\n    }\n  ]\n}"
            }
          },
          "metadata": {},
          "execution_count": 20
        }
      ]
    },
    {
      "cell_type": "markdown",
      "source": [
        "Cleaning Customer Gender"
      ],
      "metadata": {
        "id": "ba25vt8vP7XW"
      }
    },
    {
      "cell_type": "code",
      "source": [
        "df_account['customer_gender'].value_counts(dropna=False)\n",
        "df_account.loc[~df_account['customer_gender'].isin(['f','m']),'customer_gender']='u'\n",
        "df_account['customer_gender'].value_counts(dropna=False)"
      ],
      "metadata": {
        "colab": {
          "base_uri": "https://localhost:8080/"
        },
        "id": "LhlFkABIPakS",
        "outputId": "d48576cf-825f-41d0-e53d-6137824e290e"
      },
      "execution_count": null,
      "outputs": [
        {
          "output_type": "execute_result",
          "data": {
            "text/plain": [
              "customer_gender\n",
              "f    21160\n",
              "m    21127\n",
              "u    14270\n",
              "Name: count, dtype: int64"
            ]
          },
          "metadata": {},
          "execution_count": 21
        }
      ]
    },
    {
      "cell_type": "markdown",
      "source": [
        "RFM Exploration"
      ],
      "metadata": {
        "id": "pXZ9GtlhQBch"
      }
    },
    {
      "cell_type": "code",
      "source": [
        "df_rfm = df_usage.groupby('rfm_score').agg({'mb_data_usg_m01':['mean','max'],'avg_arpu_3m':['mean'],'lifetime_value':['mean']})"
      ],
      "metadata": {
        "id": "iIvQtB6DQEdQ"
      },
      "execution_count": null,
      "outputs": []
    },
    {
      "cell_type": "code",
      "source": [
        "df_rfm.loc[[111,112,113,121,122,123]]"
      ],
      "metadata": {
        "id": "DfxwzGaCRVLW"
      },
      "execution_count": null,
      "outputs": []
    },
    {
      "cell_type": "markdown",
      "source": [
        "Merge Table"
      ],
      "metadata": {
        "id": "QBiz4beGRh25"
      }
    },
    {
      "cell_type": "code",
      "source": [
        "df_account['region'].value_counts()"
      ],
      "metadata": {
        "colab": {
          "base_uri": "https://localhost:8080/"
        },
        "id": "ALAqTUebRgdJ",
        "outputId": "2101acdb-a4dd-4873-a147-2d063563d177"
      },
      "execution_count": null,
      "outputs": [
        {
          "output_type": "execute_result",
          "data": {
            "text/plain": [
              "region\n",
              "Great Lakes      10900\n",
              "South            10581\n",
              "Mid Atlantic     10357\n",
              "Pacific           9157\n",
              "Greater Texas     7236\n",
              "New England       2648\n",
              "Midwest           2284\n",
              "Southwest         2186\n",
              "Mtn West          1208\n",
              "Name: count, dtype: int64"
            ]
          },
          "metadata": {},
          "execution_count": 26
        }
      ]
    },
    {
      "cell_type": "code",
      "source": [
        "df_account.columns"
      ],
      "metadata": {
        "colab": {
          "base_uri": "https://localhost:8080/"
        },
        "id": "EgKpU5cfRu9s",
        "outputId": "528182cd-f08c-4bcd-df60-ade12e514125"
      },
      "execution_count": null,
      "outputs": [
        {
          "output_type": "execute_result",
          "data": {
            "text/plain": [
              "Index(['Customer_ID', 'customer_name', 'customer_gender', 'customer_address',\n",
              "       'customer_city', 'customer_state', 'zipcode_primary',\n",
              "       'customer_primary_phone', 'region', 'region_lat', 'region_long',\n",
              "       'state_lat', 'state_long', 'city_lat', 'city_long', 'zip_lat',\n",
              "       'zip_long'],\n",
              "      dtype='object')"
            ]
          },
          "metadata": {},
          "execution_count": 27
        }
      ]
    },
    {
      "cell_type": "code",
      "source": [
        "df_join=df_account[['Customer_ID','customer_gender','region']].merge(df_usage[['Customer_ID','mb_data_usg_m01','avg_arpu_3m','lifetime_value']],on='Customer_ID')"
      ],
      "metadata": {
        "id": "Su1fvaFrR0Qo"
      },
      "execution_count": null,
      "outputs": []
    },
    {
      "cell_type": "code",
      "source": [
        "df_join.loc[df_join['Customer_ID'].isin([84690,3998832,3999066])]"
      ],
      "metadata": {
        "colab": {
          "base_uri": "https://localhost:8080/",
          "height": 143
        },
        "id": "SZfiupc-Sftc",
        "outputId": "18be491d-35e9-4dc7-d4a0-58209f1bfbe3"
      },
      "execution_count": null,
      "outputs": [
        {
          "output_type": "execute_result",
          "data": {
            "text/plain": [
              "       Customer_ID customer_gender       region  mb_data_usg_m01  avg_arpu_3m  \\\n",
              "4            84690               f      Midwest      1662.021201    65.990000   \n",
              "56552      3998832               m  Great Lakes       677.043962    44.474000   \n",
              "56556      3999066               f  Great Lakes         1.000000    51.775434   \n",
              "\n",
              "       lifetime_value  \n",
              "4              1985.5  \n",
              "56552          7898.9  \n",
              "56556          4157.5  "
            ],
            "text/html": [
              "\n",
              "  <div id=\"df-ef69780a-7ae0-45ff-840c-16853637e4cc\" class=\"colab-df-container\">\n",
              "    <div>\n",
              "<style scoped>\n",
              "    .dataframe tbody tr th:only-of-type {\n",
              "        vertical-align: middle;\n",
              "    }\n",
              "\n",
              "    .dataframe tbody tr th {\n",
              "        vertical-align: top;\n",
              "    }\n",
              "\n",
              "    .dataframe thead th {\n",
              "        text-align: right;\n",
              "    }\n",
              "</style>\n",
              "<table border=\"1\" class=\"dataframe\">\n",
              "  <thead>\n",
              "    <tr style=\"text-align: right;\">\n",
              "      <th></th>\n",
              "      <th>Customer_ID</th>\n",
              "      <th>customer_gender</th>\n",
              "      <th>region</th>\n",
              "      <th>mb_data_usg_m01</th>\n",
              "      <th>avg_arpu_3m</th>\n",
              "      <th>lifetime_value</th>\n",
              "    </tr>\n",
              "  </thead>\n",
              "  <tbody>\n",
              "    <tr>\n",
              "      <th>4</th>\n",
              "      <td>84690</td>\n",
              "      <td>f</td>\n",
              "      <td>Midwest</td>\n",
              "      <td>1662.021201</td>\n",
              "      <td>65.990000</td>\n",
              "      <td>1985.5</td>\n",
              "    </tr>\n",
              "    <tr>\n",
              "      <th>56552</th>\n",
              "      <td>3998832</td>\n",
              "      <td>m</td>\n",
              "      <td>Great Lakes</td>\n",
              "      <td>677.043962</td>\n",
              "      <td>44.474000</td>\n",
              "      <td>7898.9</td>\n",
              "    </tr>\n",
              "    <tr>\n",
              "      <th>56556</th>\n",
              "      <td>3999066</td>\n",
              "      <td>f</td>\n",
              "      <td>Great Lakes</td>\n",
              "      <td>1.000000</td>\n",
              "      <td>51.775434</td>\n",
              "      <td>4157.5</td>\n",
              "    </tr>\n",
              "  </tbody>\n",
              "</table>\n",
              "</div>\n",
              "    <div class=\"colab-df-buttons\">\n",
              "\n",
              "  <div class=\"colab-df-container\">\n",
              "    <button class=\"colab-df-convert\" onclick=\"convertToInteractive('df-ef69780a-7ae0-45ff-840c-16853637e4cc')\"\n",
              "            title=\"Convert this dataframe to an interactive table.\"\n",
              "            style=\"display:none;\">\n",
              "\n",
              "  <svg xmlns=\"http://www.w3.org/2000/svg\" height=\"24px\" viewBox=\"0 -960 960 960\">\n",
              "    <path d=\"M120-120v-720h720v720H120Zm60-500h600v-160H180v160Zm220 220h160v-160H400v160Zm0 220h160v-160H400v160ZM180-400h160v-160H180v160Zm440 0h160v-160H620v160ZM180-180h160v-160H180v160Zm440 0h160v-160H620v160Z\"/>\n",
              "  </svg>\n",
              "    </button>\n",
              "\n",
              "  <style>\n",
              "    .colab-df-container {\n",
              "      display:flex;\n",
              "      gap: 12px;\n",
              "    }\n",
              "\n",
              "    .colab-df-convert {\n",
              "      background-color: #E8F0FE;\n",
              "      border: none;\n",
              "      border-radius: 50%;\n",
              "      cursor: pointer;\n",
              "      display: none;\n",
              "      fill: #1967D2;\n",
              "      height: 32px;\n",
              "      padding: 0 0 0 0;\n",
              "      width: 32px;\n",
              "    }\n",
              "\n",
              "    .colab-df-convert:hover {\n",
              "      background-color: #E2EBFA;\n",
              "      box-shadow: 0px 1px 2px rgba(60, 64, 67, 0.3), 0px 1px 3px 1px rgba(60, 64, 67, 0.15);\n",
              "      fill: #174EA6;\n",
              "    }\n",
              "\n",
              "    .colab-df-buttons div {\n",
              "      margin-bottom: 4px;\n",
              "    }\n",
              "\n",
              "    [theme=dark] .colab-df-convert {\n",
              "      background-color: #3B4455;\n",
              "      fill: #D2E3FC;\n",
              "    }\n",
              "\n",
              "    [theme=dark] .colab-df-convert:hover {\n",
              "      background-color: #434B5C;\n",
              "      box-shadow: 0px 1px 3px 1px rgba(0, 0, 0, 0.15);\n",
              "      filter: drop-shadow(0px 1px 2px rgba(0, 0, 0, 0.3));\n",
              "      fill: #FFFFFF;\n",
              "    }\n",
              "  </style>\n",
              "\n",
              "    <script>\n",
              "      const buttonEl =\n",
              "        document.querySelector('#df-ef69780a-7ae0-45ff-840c-16853637e4cc button.colab-df-convert');\n",
              "      buttonEl.style.display =\n",
              "        google.colab.kernel.accessAllowed ? 'block' : 'none';\n",
              "\n",
              "      async function convertToInteractive(key) {\n",
              "        const element = document.querySelector('#df-ef69780a-7ae0-45ff-840c-16853637e4cc');\n",
              "        const dataTable =\n",
              "          await google.colab.kernel.invokeFunction('convertToInteractive',\n",
              "                                                    [key], {});\n",
              "        if (!dataTable) return;\n",
              "\n",
              "        const docLinkHtml = 'Like what you see? Visit the ' +\n",
              "          '<a target=\"_blank\" href=https://colab.research.google.com/notebooks/data_table.ipynb>data table notebook</a>'\n",
              "          + ' to learn more about interactive tables.';\n",
              "        element.innerHTML = '';\n",
              "        dataTable['output_type'] = 'display_data';\n",
              "        await google.colab.output.renderOutput(dataTable, element);\n",
              "        const docLink = document.createElement('div');\n",
              "        docLink.innerHTML = docLinkHtml;\n",
              "        element.appendChild(docLink);\n",
              "      }\n",
              "    </script>\n",
              "  </div>\n",
              "\n",
              "\n",
              "<div id=\"df-e4f279c8-6c9e-4956-a668-35f8f6cbf75c\">\n",
              "  <button class=\"colab-df-quickchart\" onclick=\"quickchart('df-e4f279c8-6c9e-4956-a668-35f8f6cbf75c')\"\n",
              "            title=\"Suggest charts\"\n",
              "            style=\"display:none;\">\n",
              "\n",
              "<svg xmlns=\"http://www.w3.org/2000/svg\" height=\"24px\"viewBox=\"0 0 24 24\"\n",
              "     width=\"24px\">\n",
              "    <g>\n",
              "        <path d=\"M19 3H5c-1.1 0-2 .9-2 2v14c0 1.1.9 2 2 2h14c1.1 0 2-.9 2-2V5c0-1.1-.9-2-2-2zM9 17H7v-7h2v7zm4 0h-2V7h2v10zm4 0h-2v-4h2v4z\"/>\n",
              "    </g>\n",
              "</svg>\n",
              "  </button>\n",
              "\n",
              "<style>\n",
              "  .colab-df-quickchart {\n",
              "      --bg-color: #E8F0FE;\n",
              "      --fill-color: #1967D2;\n",
              "      --hover-bg-color: #E2EBFA;\n",
              "      --hover-fill-color: #174EA6;\n",
              "      --disabled-fill-color: #AAA;\n",
              "      --disabled-bg-color: #DDD;\n",
              "  }\n",
              "\n",
              "  [theme=dark] .colab-df-quickchart {\n",
              "      --bg-color: #3B4455;\n",
              "      --fill-color: #D2E3FC;\n",
              "      --hover-bg-color: #434B5C;\n",
              "      --hover-fill-color: #FFFFFF;\n",
              "      --disabled-bg-color: #3B4455;\n",
              "      --disabled-fill-color: #666;\n",
              "  }\n",
              "\n",
              "  .colab-df-quickchart {\n",
              "    background-color: var(--bg-color);\n",
              "    border: none;\n",
              "    border-radius: 50%;\n",
              "    cursor: pointer;\n",
              "    display: none;\n",
              "    fill: var(--fill-color);\n",
              "    height: 32px;\n",
              "    padding: 0;\n",
              "    width: 32px;\n",
              "  }\n",
              "\n",
              "  .colab-df-quickchart:hover {\n",
              "    background-color: var(--hover-bg-color);\n",
              "    box-shadow: 0 1px 2px rgba(60, 64, 67, 0.3), 0 1px 3px 1px rgba(60, 64, 67, 0.15);\n",
              "    fill: var(--button-hover-fill-color);\n",
              "  }\n",
              "\n",
              "  .colab-df-quickchart-complete:disabled,\n",
              "  .colab-df-quickchart-complete:disabled:hover {\n",
              "    background-color: var(--disabled-bg-color);\n",
              "    fill: var(--disabled-fill-color);\n",
              "    box-shadow: none;\n",
              "  }\n",
              "\n",
              "  .colab-df-spinner {\n",
              "    border: 2px solid var(--fill-color);\n",
              "    border-color: transparent;\n",
              "    border-bottom-color: var(--fill-color);\n",
              "    animation:\n",
              "      spin 1s steps(1) infinite;\n",
              "  }\n",
              "\n",
              "  @keyframes spin {\n",
              "    0% {\n",
              "      border-color: transparent;\n",
              "      border-bottom-color: var(--fill-color);\n",
              "      border-left-color: var(--fill-color);\n",
              "    }\n",
              "    20% {\n",
              "      border-color: transparent;\n",
              "      border-left-color: var(--fill-color);\n",
              "      border-top-color: var(--fill-color);\n",
              "    }\n",
              "    30% {\n",
              "      border-color: transparent;\n",
              "      border-left-color: var(--fill-color);\n",
              "      border-top-color: var(--fill-color);\n",
              "      border-right-color: var(--fill-color);\n",
              "    }\n",
              "    40% {\n",
              "      border-color: transparent;\n",
              "      border-right-color: var(--fill-color);\n",
              "      border-top-color: var(--fill-color);\n",
              "    }\n",
              "    60% {\n",
              "      border-color: transparent;\n",
              "      border-right-color: var(--fill-color);\n",
              "    }\n",
              "    80% {\n",
              "      border-color: transparent;\n",
              "      border-right-color: var(--fill-color);\n",
              "      border-bottom-color: var(--fill-color);\n",
              "    }\n",
              "    90% {\n",
              "      border-color: transparent;\n",
              "      border-bottom-color: var(--fill-color);\n",
              "    }\n",
              "  }\n",
              "</style>\n",
              "\n",
              "  <script>\n",
              "    async function quickchart(key) {\n",
              "      const quickchartButtonEl =\n",
              "        document.querySelector('#' + key + ' button');\n",
              "      quickchartButtonEl.disabled = true;  // To prevent multiple clicks.\n",
              "      quickchartButtonEl.classList.add('colab-df-spinner');\n",
              "      try {\n",
              "        const charts = await google.colab.kernel.invokeFunction(\n",
              "            'suggestCharts', [key], {});\n",
              "      } catch (error) {\n",
              "        console.error('Error during call to suggestCharts:', error);\n",
              "      }\n",
              "      quickchartButtonEl.classList.remove('colab-df-spinner');\n",
              "      quickchartButtonEl.classList.add('colab-df-quickchart-complete');\n",
              "    }\n",
              "    (() => {\n",
              "      let quickchartButtonEl =\n",
              "        document.querySelector('#df-e4f279c8-6c9e-4956-a668-35f8f6cbf75c button');\n",
              "      quickchartButtonEl.style.display =\n",
              "        google.colab.kernel.accessAllowed ? 'block' : 'none';\n",
              "    })();\n",
              "  </script>\n",
              "</div>\n",
              "    </div>\n",
              "  </div>\n"
            ],
            "application/vnd.google.colaboratory.intrinsic+json": {
              "type": "dataframe",
              "summary": "{\n  \"name\": \"df_join\",\n  \"rows\": 3,\n  \"fields\": [\n    {\n      \"column\": \"Customer_ID\",\n      \"properties\": {\n        \"dtype\": \"number\",\n        \"std\": 2259898,\n        \"min\": 84690,\n        \"max\": 3999066,\n        \"num_unique_values\": 3,\n        \"samples\": [\n          84690,\n          3998832,\n          3999066\n        ],\n        \"semantic_type\": \"\",\n        \"description\": \"\"\n      }\n    },\n    {\n      \"column\": \"customer_gender\",\n      \"properties\": {\n        \"dtype\": \"string\",\n        \"num_unique_values\": 2,\n        \"samples\": [\n          \"m\",\n          \"f\"\n        ],\n        \"semantic_type\": \"\",\n        \"description\": \"\"\n      }\n    },\n    {\n      \"column\": \"region\",\n      \"properties\": {\n        \"dtype\": \"string\",\n        \"num_unique_values\": 2,\n        \"samples\": [\n          \"Great Lakes\",\n          \"Midwest\"\n        ],\n        \"semantic_type\": \"\",\n        \"description\": \"\"\n      }\n    },\n    {\n      \"column\": \"mb_data_usg_m01\",\n      \"properties\": {\n        \"dtype\": \"number\",\n        \"std\": 835.2850841534538,\n        \"min\": 1.0,\n        \"max\": 1662.0212011557562,\n        \"num_unique_values\": 3,\n        \"samples\": [\n          1662.0212011557562,\n          677.0439620728486\n        ],\n        \"semantic_type\": \"\",\n        \"description\": \"\"\n      }\n    },\n    {\n      \"column\": \"avg_arpu_3m\",\n      \"properties\": {\n        \"dtype\": \"number\",\n        \"std\": 10.941534647474668,\n        \"min\": 44.474,\n        \"max\": 65.99,\n        \"num_unique_values\": 3,\n        \"samples\": [\n          65.99,\n          44.474\n        ],\n        \"semantic_type\": \"\",\n        \"description\": \"\"\n      }\n    },\n    {\n      \"column\": \"lifetime_value\",\n      \"properties\": {\n        \"dtype\": \"number\",\n        \"std\": 2991.2081594789306,\n        \"min\": 1985.5,\n        \"max\": 7898.9,\n        \"num_unique_values\": 3,\n        \"samples\": [\n          1985.5,\n          7898.9\n        ],\n        \"semantic_type\": \"\",\n        \"description\": \"\"\n      }\n    }\n  ]\n}"
            }
          },
          "metadata": {},
          "execution_count": 29
        }
      ]
    }
  ]
}